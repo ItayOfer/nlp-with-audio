{
 "cells": [
  {
   "cell_type": "code",
   "execution_count": 1,
   "id": "initial_id",
   "metadata": {
    "collapsed": true,
    "ExecuteTime": {
     "end_time": "2024-04-18T07:01:06.051555Z",
     "start_time": "2024-04-18T07:01:03.168498Z"
    }
   },
   "outputs": [],
   "source": [
    "import pandas as pd\n",
    "import torch\n",
    "import torchaudio\n",
    "from torch.utils.data import DataLoader\n",
    "\n",
    "from DataProvider import DataProvider\n",
    "from AudioFeaturesExtraction.AudioDataset import AudioDataset\n",
    "\n",
    "import os\n",
    "# change to True if you want to run the data provider\n",
    "RUN_DATA_PROVIDER = False"
   ]
  },
  {
   "cell_type": "markdown",
   "source": [
    "## Generate the data"
   ],
   "metadata": {
    "collapsed": false
   },
   "id": "c0fd29deea270e7e"
  },
  {
   "cell_type": "code",
   "outputs": [],
   "source": [
    "if RUN_DATA_PROVIDER: \n",
    "    dp = DataProvider()\n",
    "    dp.run()"
   ],
   "metadata": {
    "collapsed": false,
    "ExecuteTime": {
     "end_time": "2024-04-18T07:01:08.994484Z",
     "start_time": "2024-04-18T07:01:08.991862Z"
    }
   },
   "id": "753d2246f325d86d",
   "execution_count": 2
  },
  {
   "cell_type": "code",
   "outputs": [],
   "source": [
    "train_directory = 'train_audio'\n",
    "test_directory = 'test_audio'\n",
    "dev_directory = 'dev_audio'\n",
    "\n",
    "\n",
    "train_files = sorted(os.listdir(train_directory))\n",
    "test_files = sorted(os.listdir(test_directory))\n",
    "dev_files = sorted(os.listdir(dev_directory))\n",
    "\n",
    "train_files = [os.path.join(train_directory, file) for file in train_files]\n",
    "test_files = [os.path.join(test_directory, file) for file in test_files]\n",
    "dev_files = [os.path.join(dev_directory, file) for file in dev_files]"
   ],
   "metadata": {
    "collapsed": false
   },
   "id": "d41cb36757754551",
   "execution_count": null
  },
  {
   "cell_type": "markdown",
   "source": [
    "## Generate Labels"
   ],
   "metadata": {
    "collapsed": false
   },
   "id": "60f51ac0f280f034"
  },
  {
   "cell_type": "code",
   "outputs": [],
   "source": [
    "test_info = pd.read_csv('MELD.Raw/test_sent_emo.csv')\n",
    "dev_info = pd.read_csv('MELD.Raw/dev_sent_emo.csv')\n",
    "train_info = pd.read_csv('MELD.Raw/train/train_sent_emo.csv')\n",
    "test_info['file_key'] = 'dia' + test_info['Dialogue_ID'].astype(str) + '_' + 'utt' + test_info['Utterance_ID'].astype(str)\n",
    "train_info['file_key'] = 'dia' + train_info['Dialogue_ID'].astype(str) + '_' + 'utt' + train_info['Utterance_ID'].astype(str)\n",
    "dev_info['file_key'] = 'dia' + dev_info['Dialogue_ID'].astype(str) + '_' + 'utt' + dev_info['Utterance_ID'].astype(str)\n",
    "train_info = train_info.sort_values(by='file_key')\n",
    "test_info = test_info.sort_values(by='file_key')\n",
    "dev_info = dev_info.sort_values(by='file_key')\n",
    "\n",
    "labels_dict = {\n",
    "    'negative': 0,\n",
    "    'neutral': 1,\n",
    "    'positive': 2\n",
    "}\n",
    "\n",
    "train_info['label'] = train_info['Sentiment'].map(labels_dict)\n",
    "test_info['label'] = test_info['Sentiment'].map(labels_dict)\n",
    "dev_info['label'] = dev_info['Sentiment'].map(labels_dict)"
   ],
   "metadata": {
    "collapsed": false
   },
   "id": "6a0c84351a2a31fa",
   "execution_count": null
  },
  {
   "cell_type": "code",
   "outputs": [],
   "source": [
    "is_in_train = pd.DataFrame({'file_key': [file.split('/')[1].split('.')[0] for file in train_files],\n",
    "                            'is_in': [1 for _ in range(len(train_files))]})\n",
    "is_in_test = pd.DataFrame({'file_key': [file.split('/')[1].split('.')[0] for file in test_files],\n",
    "                           'is_in': [1 for _ in range(len(test_files))]})\n",
    "is_in_dev = pd.DataFrame({'file_key': [file.split('/')[1].split('.')[0] for file in dev_files],\n",
    "                          'is_in': [1 for _ in range(len(dev_files))]})\n",
    "\n",
    "is_in_train['file_key'] = is_in_train['file_key'].astype(train_info['file_key'].dtype)\n",
    "is_in_test['file_key'] = is_in_test['file_key'].astype(test_info['file_key'].dtype)\n",
    "is_in_dev['file_key'] = is_in_dev['file_key'].astype(dev_info['file_key'].dtype)"
   ],
   "metadata": {
    "collapsed": false
   },
   "id": "96d2f61616d18cb3",
   "execution_count": null
  },
  {
   "cell_type": "code",
   "outputs": [],
   "source": [
    "train_files = sorted([file for file in train_files if file.split('/')[1].split('.')[0] in train_info['file_key'].values])\n",
    "dev_files = sorted([file for file in dev_files if file.split('/')[1].split('.')[0] in dev_info['file_key'].values])\n",
    "test_files = sorted([file for file in test_files if file.split('/')[1].split('.')[0] in test_info['file_key'].values])\n",
    "\n",
    "train_info = train_info.merge(is_in_train, how='left', on='file_key')\n",
    "test_info = test_info.merge(is_in_test, how='left', on='file_key')\n",
    "dev_info = dev_info.merge(is_in_dev, how='left', on='file_key')\n",
    "\n",
    "train_info = train_info[train_info['is_in'] == 1]\n",
    "train_info = train_info.drop(columns=['is_in', 'file_key'])\n",
    "\n",
    "test_info = test_info[test_info['is_in'] == 1]\n",
    "test_info = test_info.drop(columns=['is_in', 'file_key'])\n",
    "\n",
    "dev_info = dev_info[dev_info['is_in'] == 1]\n",
    "dev_info = dev_info.drop(columns=['is_in', 'file_key'])"
   ],
   "metadata": {
    "collapsed": false
   },
   "id": "91e6931bcdcae2da",
   "execution_count": null
  },
  {
   "cell_type": "code",
   "outputs": [],
   "source": [
    "train_dataset = AudioDataset(train_files, train_info['label'].values.tolist())\n",
    "test_dataset = AudioDataset(test_files, test_info['label'].values.tolist())\n",
    "devel_dataset = AudioDataset(dev_files, dev_info['label'].values.tolist())\n",
    "\n",
    "train_data_loader = DataLoader(train_dataset, batch_size=1)\n",
    "test_data_loader = DataLoader(test_dataset, batch_size=1)\n",
    "dev_data_loader = DataLoader(devel_dataset, batch_size=1)"
   ],
   "metadata": {
    "collapsed": false
   },
   "id": "4fb909411fc3dff9",
   "execution_count": null
  },
  {
   "cell_type": "code",
   "outputs": [],
   "source": [
    "def get_data_loader(data_loader: DataLoader):\n",
    "    \"\"\"\n",
    "    get a data loader and return the waveforms and labels in a dictionary\n",
    "    :param data_loader: DataLoader object\n",
    "    :return: dict with waveforms and labels\n",
    "    \"\"\"\n",
    "    res = {}\n",
    "    for audio_path_name, waveform, label in data_loader:\n",
    "        res.update({audio_path_name[0]: {\n",
    "                    'waveforms': waveform[0],\n",
    "                    'label': label[0]}\n",
    "        })\n",
    "    return res    \n",
    "\n",
    "dev = get_data_loader(dev_data_loader)\n",
    "train = get_data_loader(train_data_loader)\n",
    "test = get_data_loader(test_data_loader)\n"
   ],
   "metadata": {
    "collapsed": false
   },
   "id": "c41f8f873a6527e1",
   "execution_count": null
  },
  {
   "cell_type": "code",
   "outputs": [],
   "source": [
    "dev"
   ],
   "metadata": {
    "collapsed": false
   },
   "id": "12b0b84ba64caded",
   "execution_count": null
  },
  {
   "cell_type": "code",
   "outputs": [],
   "source": [
    "train"
   ],
   "metadata": {
    "collapsed": false
   },
   "id": "7de787540f15a064",
   "execution_count": null
  },
  {
   "cell_type": "code",
   "outputs": [],
   "source": [],
   "metadata": {
    "collapsed": false
   },
   "id": "737c4a79a5431797"
  }
 ],
 "metadata": {
  "kernelspec": {
   "display_name": "Python 3",
   "language": "python",
   "name": "python3"
  },
  "language_info": {
   "codemirror_mode": {
    "name": "ipython",
    "version": 2
   },
   "file_extension": ".py",
   "mimetype": "text/x-python",
   "name": "python",
   "nbconvert_exporter": "python",
   "pygments_lexer": "ipython2",
   "version": "2.7.6"
  }
 },
 "nbformat": 4,
 "nbformat_minor": 5
}
