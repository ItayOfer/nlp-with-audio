{
 "cells": [
  {
   "cell_type": "code",
   "outputs": [],
   "source": [
    "from DataProvider import DataProvider\n",
    "from AudioFeaturesExtraction.AudioFeaturesExtractor import AudioFeaturesExtractor\n",
    "\n",
    "# change to True if you want to run the data provider\n",
    "RUN_DATA_PROVIDER = False"
   ],
   "metadata": {
    "collapsed": false
   },
   "id": "initial_id",
   "execution_count": null
  },
  {
   "cell_type": "markdown",
   "source": [
    "## Generate the data"
   ],
   "metadata": {
    "collapsed": false
   },
   "id": "c0fd29deea270e7e"
  },
  {
   "cell_type": "code",
   "outputs": [],
   "source": [
    "if RUN_DATA_PROVIDER: \n",
    "    dp = DataProvider()\n",
    "    dp.run()"
   ],
   "metadata": {
    "collapsed": false
   },
   "id": "753d2246f325d86d",
   "execution_count": null
  },
  {
   "cell_type": "markdown",
   "source": [
    "## Generate the audio features"
   ],
   "metadata": {
    "collapsed": false
   },
   "id": "aee277e0d0857074"
  },
  {
   "cell_type": "code",
   "outputs": [],
   "source": [
    "train_afe = AudioFeaturesExtractor('../train_audio', '../MELD.Raw/train/train_sent_emo.csv')\n",
    "test_afe = AudioFeaturesExtractor('../test_audio', '../MELD.Raw/test_sent_emo.csv')\n",
    "dev_afe = AudioFeaturesExtractor('../dev_audio', '../MELD.Raw/dev_sent_emo.csv')\n",
    "train_dict = train_afe.run()\n",
    "test_dict = test_afe.run()\n",
    "dev_dict = dev_afe.run()"
   ],
   "metadata": {
    "collapsed": false
   },
   "id": "aa278737e623c142"
  },
  {
   "cell_type": "markdown",
   "source": [
    "## Create Model"
   ],
   "metadata": {
    "collapsed": false
   },
   "id": "59b3769f7168c16c"
  },
  {
   "cell_type": "code",
   "outputs": [],
   "source": [],
   "metadata": {
    "collapsed": false
   },
   "id": "35b41dad8ccc2af7"
  }
 ],
 "metadata": {
  "kernelspec": {
   "display_name": "Python 3",
   "language": "python",
   "name": "python3"
  },
  "language_info": {
   "codemirror_mode": {
    "name": "ipython",
    "version": 2
   },
   "file_extension": ".py",
   "mimetype": "text/x-python",
   "name": "python",
   "nbconvert_exporter": "python",
   "pygments_lexer": "ipython2",
   "version": "2.7.6"
  }
 },
 "nbformat": 4,
 "nbformat_minor": 5
}
